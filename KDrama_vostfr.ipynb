{
  "cells": [
    {
      "cell_type": "code",
      "execution_count": 42,
      "metadata": {
        "colab": {
          "base_uri": "https://localhost:8080/"
        },
        "id": "NzhiazgrIqF1",
        "outputId": "bdab1ae7-4a2d-469e-87d1-23af087fdeea"
      },
      "outputs": [
        {
          "name": "stdout",
          "output_type": "stream",
          "text": [
            "Mounted at /content/drive\n"
          ]
        }
      ],
      "source": [
        "from google.colab import drive\n",
        "drive.mount('/content/drive')"
      ]
    },
    {
      "cell_type": "markdown",
      "metadata": {
        "id": "NdeO_QBN5gn0"
      },
      "source": [
        "## Import dependencies"
      ]
    },
    {
      "cell_type": "code",
      "execution_count": 4,
      "metadata": {
        "id": "Cs6BIbDO5j6S"
      },
      "outputs": [],
      "source": [
        "#from selenium import webdriver\n",
        "import os\n",
        "import shlex\n",
        "import subprocess\n",
        "\n",
        "import requests\n",
        "from bs4 import BeautifulSoup"
      ]
    },
    {
      "cell_type": "markdown",
      "metadata": {
        "id": "O1ZvtxHR4pFm"
      },
      "source": [
        "## Get the iframe url of any episode url"
      ]
    },
    {
      "cell_type": "code",
      "execution_count": 5,
      "metadata": {
        "id": "dWPkPuZB4tjq"
      },
      "outputs": [],
      "source": [
        "def get_iframe_src(url):\n",
        "  print(\"Getting iframe url\")\n",
        "  response = requests.get(url)\n",
        "\n",
        "  soup = BeautifulSoup(response.text, features=\"lxml\")\n",
        "  player_list_block = soup.find(\"div\", class_=\"filmicerik\")\n",
        "  players = player_list_block.find_all(\"iframe\")\n",
        "\n",
        "  for player in players:\n",
        "    if \"https://ok.ru/videoembed/\" in player[\"src\"]:\n",
        "      return player[\"src\"]\n"
      ]
    },
    {
      "cell_type": "markdown",
      "metadata": {
        "id": "hWwL8sYW400j"
      },
      "source": [
        "## Get episode urls of the drama"
      ]
    },
    {
      "cell_type": "code",
      "execution_count": 6,
      "metadata": {
        "id": "oNx12Mg144Mx"
      },
      "outputs": [],
      "source": [
        "def fetch_episodes(drama_url):\n",
        "  print(\"Fetching episode urls....\")\n",
        "\n",
        "  try:\n",
        "    response = requests.get(drama_url)\n",
        "  except Exception as error:\n",
        "    print(f\"Failed to get the url. {error}\")\n",
        "    return None\n",
        "  else:\n",
        "    if response.status_code == 200:\n",
        "      episodes = [\n",
        "          {\n",
        "              \"episode\": \"1\",\n",
        "              \"url\": drama_url \n",
        "          } \n",
        "      ]\n",
        "      try:\n",
        "        soup = BeautifulSoup(response.text, features=\"lxml\")\n",
        "        for a in soup.find(\"div\", class_=\"keremiya_part\").find_all(\"a\"):\n",
        "          episode = a[\"href\"].split(\"/\")[-2]\n",
        "          episode_url = a[\"href\"]\n",
        "\n",
        "          episodes.append(\n",
        "              {\n",
        "                  \"episode\": episode,\n",
        "                  \"url\": episode_url\n",
        "              }\n",
        "          )\n",
        "      except Exception as error:\n",
        "        print(f\"Failed to scrape the webpage. {error}\")\n",
        "        return None\n",
        "      else:\n",
        "        return episodes\n"
      ]
    },
    {
      "cell_type": "markdown",
      "metadata": {
        "id": "hRNQlajv4edL"
      },
      "source": [
        "## Download one episode by its iframe url (from ok.ru)"
      ]
    },
    {
      "cell_type": "code",
      "execution_count": 7,
      "metadata": {
        "id": "cnwp4XOR4kDL"
      },
      "outputs": [],
      "source": [
        "def download_episode(episode_url):\n",
        "  command = f\"yt-dlp '{episode_url}' --verbose\"\n",
        "\n",
        "  process = None\n",
        "  try:\n",
        "      process = subprocess.Popen(\n",
        "          shlex.split(command), shell=False, stdout=subprocess.PIPE)\n",
        "  except Exception as error:\n",
        "    print(f\"An error occurred when downloading episode. {error}\")\n",
        "  else:\n",
        "    while True:\n",
        "        output = process.stdout.readline()\n",
        "        # used to check for empty output in Python2, but seems\n",
        "        # to work with just poll in 2.7.12 and 3.5.2\n",
        "        # if output == '' and process.poll() is not None:\n",
        "        if process.poll() is not None:\n",
        "            break\n",
        "        if output:\n",
        "            print(output.strip().decode())\n",
        "    rc = process.poll()\n",
        "    print(\"Episode downloaded successfully.\")"
      ]
    },
    {
      "cell_type": "markdown",
      "metadata": {
        "id": "XC0sEE1qvfSE"
      },
      "source": [
        "## Main program"
      ]
    },
    {
      "cell_type": "code",
      "execution_count": 11,
      "metadata": {
        "id": "Rm6NpprIvlBg"
      },
      "outputs": [],
      "source": [
        "def main():\n",
        "  not_finished = True\n",
        "  print(\"-----------KDRAMA-VOSTFR-DOWNLOADER------------\")\n",
        "  while not_finished:\n",
        "    URL = input(\"Please provide the drama url : \")\n",
        "\n",
        "    episodes = fetch_episodes(URL)\n",
        "    if episodes is not None:\n",
        "      print(f\"Fetched episodes. Number of episodes of this drama is {len(episodes)}.\")\n",
        "\n",
        "      print(\"-------------------EPISODES--------------------\")\n",
        "      for episode in episodes:\n",
        "        print(f\"Episode {episode.get('episode')}: {episode.get('url')}\")\n",
        "\n",
        "      print(\"\\n-------------AVAILABLE-OPTIONS----------------\")\n",
        "      print(\"[1] : Download all episodes\")\n",
        "      print(\"[2] : Download one episode\")\n",
        "      print(\"[Q] : Quit\")\n",
        "      while True:\n",
        "        option = input(\"What do you want to do ? \")\n",
        "\n",
        "        if option not in (\"1\", \"2\", \"Q\"):\n",
        "          print(\"Wrong command. Please type either 1, 2, or Q.\")\n",
        "        else:\n",
        "          if option == \"1\":\n",
        "            print(\"Downloading all episodes....\")\n",
        "            for episode in episodes:\n",
        "              print(f\"\\nDownloading episode {episode.get('episode')}....\")\n",
        "              iframe_src = get_iframe_src(episode.get(\"url\"))\n",
        "              download_episode(iframe_src)\n",
        "            print(\"DONE downloading all episodes.\")\n",
        "            not_finished = False\n",
        "            break\n",
        "\n",
        "          elif option == \"2\":\n",
        "            while True:\n",
        "              episode = input(\"Please provide the episode that you want to download : \")\n",
        "              if episode not in (d[\"episode\"] for d in episodes):\n",
        "                print(\"This episode doesn't exist. Please provide a valid episode.\")\n",
        "              else:\n",
        "                print(f\"\\nDownloading episode {episode}....\")\n",
        "                for ep in episodes:\n",
        "                  if ep.get('episode') == episode:\n",
        "                    iframe_src = get_iframe_src(ep.get(\"url\"))\n",
        "                    download_episode(iframe_src)\n",
        "                    break\n",
        "                print(\"DONE.\")\n",
        "                not_finished = False\n",
        "                break\n",
        "\n",
        "          elif option == \"Q\":\n",
        "            print(\"Quitting program.\")\n",
        "            not_finished = False\n",
        "            break\n"
      ]
    },
    {
      "cell_type": "code",
      "execution_count": 13,
      "metadata": {
        "colab": {
          "base_uri": "https://localhost:8080/"
        },
        "id": "pfHXOMzU6ULQ",
        "outputId": "77e68251-9777-4d8a-bc31-6fdbc45f812f"
      },
      "outputs": [
        {
          "name": "stdout",
          "output_type": "stream",
          "text": [
            "-----------KDRAMA-VOSTFR-DOWNLOADER------------\n",
            "Fetching episode urls....\n",
            "Fetched episodes. Number of episodes of this drama is 20.\n",
            "------------EPISODES--------------\n",
            "Episode 1: https://kdramavostfr.com/mouse-vostfr-kdrama/\n",
            "Episode 2: https://kdramavostfr.com/mouse-vostfr-kdrama/2/\n",
            "Episode 3: https://kdramavostfr.com/mouse-vostfr-kdrama/3/\n",
            "Episode 4: https://kdramavostfr.com/mouse-vostfr-kdrama/4/\n",
            "Episode 5: https://kdramavostfr.com/mouse-vostfr-kdrama/5/\n",
            "Episode 6: https://kdramavostfr.com/mouse-vostfr-kdrama/6/\n",
            "Episode 7: https://kdramavostfr.com/mouse-vostfr-kdrama/7/\n",
            "Episode 8: https://kdramavostfr.com/mouse-vostfr-kdrama/8/\n",
            "Episode 9: https://kdramavostfr.com/mouse-vostfr-kdrama/9/\n",
            "Episode 10: https://kdramavostfr.com/mouse-vostfr-kdrama/10/\n",
            "Episode 11: https://kdramavostfr.com/mouse-vostfr-kdrama/11/\n",
            "Episode 12: https://kdramavostfr.com/mouse-vostfr-kdrama/12/\n",
            "Episode 13: https://kdramavostfr.com/mouse-vostfr-kdrama/13/\n",
            "Episode 14: https://kdramavostfr.com/mouse-vostfr-kdrama/14/\n",
            "Episode 15: https://kdramavostfr.com/mouse-vostfr-kdrama/15/\n",
            "Episode 16: https://kdramavostfr.com/mouse-vostfr-kdrama/16/\n",
            "Episode 17: https://kdramavostfr.com/mouse-vostfr-kdrama/17/\n",
            "Episode 18: https://kdramavostfr.com/mouse-vostfr-kdrama/18/\n",
            "Episode 19: https://kdramavostfr.com/mouse-vostfr-kdrama/19/\n",
            "Episode 20: https://kdramavostfr.com/mouse-vostfr-kdrama/20/\n",
            "\n",
            "--------AVAILABLE-OPTIONS---------\n",
            "[1] : Download all episodes\n",
            "[2] : Download one episode\n",
            "[Q] : Quit\n",
            "\n",
            "Downloading episode 16....\n",
            "Getting iframe url\n"
          ]
        },
        {
          "name": "stderr",
          "output_type": "stream",
          "text": [
            "[debug] Command-line config: ['https://ok.ru/videoembed/3435104635411', '--verbose']\n",
            "[debug] Encodings: locale UTF-8, fs utf-8, out utf-8 (No ANSI), err utf-8 (No ANSI), pref UTF-8\n",
            "[debug] yt-dlp version 2022.04.08 [7884ade65]\n",
            "[debug] Python version 3.10.2 (CPython 64bit) - Linux-5.10.96-1-MANJARO-x86_64-with-glibc2.33\n",
            "[debug] Checking exe version: ffmpeg -bsfs\n",
            "[debug] Checking exe version: ffprobe -bsfs\n",
            "[debug] exe versions: ffmpeg 4.4.1 (setts), ffprobe 4.4.1, rtmpdump 2.4\n",
            "[debug] Optional libraries: certifi, Cryptodome, secretstorage, mutagen, sqlite, websockets\n",
            "[debug] Proxy map: {}\n",
            "[debug] [Odnoklassniki] Extracting URL: https://ok.ru/videoembed/3435104635411\n"
          ]
        },
        {
          "name": "stdout",
          "output_type": "stream",
          "text": [
            "[Odnoklassniki] 3435104635411: Downloading desktop webpage\n",
            "[Odnoklassniki] 3435104635411: Downloading m3u8 information\n"
          ]
        },
        {
          "name": "stderr",
          "output_type": "stream",
          "text": [
            "[debug] Formats sorted by: hasvid, ie_pref, lang, quality, res, fps, hdr:12(7), vcodec:vp9.2(10), acodec, filesize, fs_approx, tbr, vbr, abr, asr, proto, vext, aext, hasaud, source, id\n",
            "[debug] Default format spec: bestvideo*+bestaudio/best\n",
            "[debug] Invoking downloader on \"https://vd343.mycdn.me/?expires=1650270565658&srcIp=102.16.43.210&pr=10&srcAg=CHROME&ms=185.226.53.59&type=3&sig=6Epz5Yac0D8&ct=4&urls=45.136.22.39&clientType=0&id=1818717260307\"\n"
          ]
        },
        {
          "name": "stdout",
          "output_type": "stream",
          "text": [
            "[info] 3435104635411: Downloading 1 format(s): mpd-4\n",
            "[download] Destination: Mouse E16 Fr [3435104635411].mp4\n"
          ]
        },
        {
          "ename": "KeyboardInterrupt",
          "evalue": "",
          "output_type": "error",
          "traceback": [
            "\u001b[0;31m---------------------------------------------------------------------------\u001b[0m",
            "\u001b[0;31mKeyboardInterrupt\u001b[0m                         Traceback (most recent call last)",
            "\u001b[1;32m/home/krishna/Downloads/KDrama_vostfr.ipynb Cell 12'\u001b[0m in \u001b[0;36m<cell line: 1>\u001b[0;34m()\u001b[0m\n\u001b[0;32m----> <a href='vscode-notebook-cell:/home/krishna/Downloads/KDrama_vostfr.ipynb#ch0000015?line=0'>1</a>\u001b[0m main()\n",
            "\u001b[1;32m/home/krishna/Downloads/KDrama_vostfr.ipynb Cell 11'\u001b[0m in \u001b[0;36mmain\u001b[0;34m()\u001b[0m\n\u001b[1;32m     <a href='vscode-notebook-cell:/home/krishna/Downloads/KDrama_vostfr.ipynb#ch0000014?line=42'>43</a>\u001b[0m   \u001b[39mif\u001b[39;00m ep\u001b[39m.\u001b[39mget(\u001b[39m'\u001b[39m\u001b[39mepisode\u001b[39m\u001b[39m'\u001b[39m) \u001b[39m==\u001b[39m episode:\n\u001b[1;32m     <a href='vscode-notebook-cell:/home/krishna/Downloads/KDrama_vostfr.ipynb#ch0000014?line=43'>44</a>\u001b[0m     iframe_src \u001b[39m=\u001b[39m get_iframe_src(ep\u001b[39m.\u001b[39mget(\u001b[39m\"\u001b[39m\u001b[39murl\u001b[39m\u001b[39m\"\u001b[39m))\n\u001b[0;32m---> <a href='vscode-notebook-cell:/home/krishna/Downloads/KDrama_vostfr.ipynb#ch0000014?line=44'>45</a>\u001b[0m     download_episode(iframe_src)\n\u001b[1;32m     <a href='vscode-notebook-cell:/home/krishna/Downloads/KDrama_vostfr.ipynb#ch0000014?line=45'>46</a>\u001b[0m     \u001b[39mbreak\u001b[39;00m\n\u001b[1;32m     <a href='vscode-notebook-cell:/home/krishna/Downloads/KDrama_vostfr.ipynb#ch0000014?line=46'>47</a>\u001b[0m \u001b[39mprint\u001b[39m(\u001b[39m\"\u001b[39m\u001b[39mDONE.\u001b[39m\u001b[39m\"\u001b[39m)\n",
            "\u001b[1;32m/home/krishna/Downloads/KDrama_vostfr.ipynb Cell 9'\u001b[0m in \u001b[0;36mdownload_episode\u001b[0;34m(episode_url)\u001b[0m\n\u001b[1;32m     <a href='vscode-notebook-cell:/home/krishna/Downloads/KDrama_vostfr.ipynb#ch0000012?line=9'>10</a>\u001b[0m \u001b[39melse\u001b[39;00m:\n\u001b[1;32m     <a href='vscode-notebook-cell:/home/krishna/Downloads/KDrama_vostfr.ipynb#ch0000012?line=10'>11</a>\u001b[0m   \u001b[39mwhile\u001b[39;00m \u001b[39mTrue\u001b[39;00m:\n\u001b[0;32m---> <a href='vscode-notebook-cell:/home/krishna/Downloads/KDrama_vostfr.ipynb#ch0000012?line=11'>12</a>\u001b[0m       output \u001b[39m=\u001b[39m process\u001b[39m.\u001b[39;49mstdout\u001b[39m.\u001b[39;49mreadline()\n\u001b[1;32m     <a href='vscode-notebook-cell:/home/krishna/Downloads/KDrama_vostfr.ipynb#ch0000012?line=12'>13</a>\u001b[0m       \u001b[39m# used to check for empty output in Python2, but seems\u001b[39;00m\n\u001b[1;32m     <a href='vscode-notebook-cell:/home/krishna/Downloads/KDrama_vostfr.ipynb#ch0000012?line=13'>14</a>\u001b[0m       \u001b[39m# to work with just poll in 2.7.12 and 3.5.2\u001b[39;00m\n\u001b[1;32m     <a href='vscode-notebook-cell:/home/krishna/Downloads/KDrama_vostfr.ipynb#ch0000012?line=14'>15</a>\u001b[0m       \u001b[39m# if output == '' and process.poll() is not None:\u001b[39;00m\n\u001b[1;32m     <a href='vscode-notebook-cell:/home/krishna/Downloads/KDrama_vostfr.ipynb#ch0000012?line=15'>16</a>\u001b[0m       \u001b[39mif\u001b[39;00m process\u001b[39m.\u001b[39mpoll() \u001b[39mis\u001b[39;00m \u001b[39mnot\u001b[39;00m \u001b[39mNone\u001b[39;00m:\n",
            "\u001b[0;31mKeyboardInterrupt\u001b[0m: "
          ]
        }
      ],
      "source": [
        "main()"
      ]
    },
    {
      "cell_type": "code",
      "execution_count": null,
      "metadata": {
        "id": "TP-DCAa1IRsp"
      },
      "outputs": [],
      "source": [
        "!zip -r -9 kingdom-s01.zip Kingdom-S01/"
      ]
    }
  ],
  "metadata": {
    "colab": {
      "collapsed_sections": [],
      "name": "KDrama-vostfr.ipynb",
      "provenance": []
    },
    "kernelspec": {
      "display_name": "Python 3",
      "name": "python3"
    },
    "language_info": {
      "codemirror_mode": {
        "name": "ipython",
        "version": 3
      },
      "file_extension": ".py",
      "mimetype": "text/x-python",
      "name": "python",
      "nbconvert_exporter": "python",
      "pygments_lexer": "ipython3",
      "version": "3.10.2"
    }
  },
  "nbformat": 4,
  "nbformat_minor": 0
}
